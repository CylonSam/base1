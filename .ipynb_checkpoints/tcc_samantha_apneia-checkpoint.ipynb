{
 "cells": [
  {
   "cell_type": "code",
   "execution_count": 1,
   "id": "d5b9d734",
   "metadata": {},
   "outputs": [],
   "source": [
    "# imports\n",
    "import pyedflib\n",
    "import numpy as np"
   ]
  },
  {
   "cell_type": "code",
   "execution_count": 2,
   "id": "3c081113",
   "metadata": {},
   "outputs": [
    {
     "data": {
      "text/plain": [
       "'/home/samantha.athayde/Documents/tcc/base1/st-vincents-university-hospital-university-college-dublin-sleep-apnea-database-1.0.0/files/ucddb002.rec'"
      ]
     },
     "execution_count": 2,
     "metadata": {},
     "output_type": "execute_result"
    }
   ],
   "source": [
    "file_name = '/home/samantha.athayde/Documents/tcc/base1/st-vincents-university-hospital-university-college-dublin-sleep-apnea-database-1.0.0/files/ucddb002.rec'\n",
    "file_name"
   ]
  },
  {
   "cell_type": "code",
   "execution_count": 3,
   "id": "14157c82",
   "metadata": {},
   "outputs": [
    {
     "data": {
      "text/plain": [
       "'/home/samantha.athayde/miniconda3/envs/tcc/lib/python3.10/site-packages/pyedflib/data/test_generator.edf'"
      ]
     },
     "execution_count": 3,
     "metadata": {},
     "output_type": "execute_result"
    }
   ],
   "source": [
    "file_name_pyflib = pyedflib.data.get_generator_filename()\n",
    "file_name_pyflib"
   ]
  },
  {
   "cell_type": "code",
   "execution_count": 4,
   "id": "0fcfdf64",
   "metadata": {},
   "outputs": [],
   "source": [
    "f = pyedflib.EdfReader(file_name)\n",
    "n = f.signals_in_file\n",
    "signal_labels = f.getSignalLabels()"
   ]
  },
  {
   "cell_type": "code",
   "execution_count": 7,
   "id": "d050c6c6",
   "metadata": {},
   "outputs": [
    {
     "data": {
      "text/plain": [
       "['Lefteye',\n",
       " 'RightEye',\n",
       " 'EMG',\n",
       " 'C3A2',\n",
       " 'C4A1',\n",
       " 'ECG',\n",
       " 'SpO2',\n",
       " 'Sound',\n",
       " 'Flow',\n",
       " 'Sum',\n",
       " 'ribcage',\n",
       " 'abdo',\n",
       " 'BodyPos',\n",
       " 'Pulse']"
      ]
     },
     "execution_count": 7,
     "metadata": {},
     "output_type": "execute_result"
    }
   ],
   "source": [
    "signal_labels"
   ]
  },
  {
   "cell_type": "code",
   "execution_count": 17,
   "id": "4163e529",
   "metadata": {},
   "outputs": [
    {
     "data": {
      "text/plain": [
       "(2, 2876160)"
      ]
     },
     "execution_count": 17,
     "metadata": {},
     "output_type": "execute_result"
    }
   ],
   "source": [
    "# canais 3 e 4 -> C3A2 E C4A1\n",
    "sigbufs = np.zeros((2, f.getNSamples()[3]))\n",
    "sigbufs.shape\n"
   ]
  },
  {
   "cell_type": "code",
   "execution_count": 18,
   "id": "28a77d8d",
   "metadata": {},
   "outputs": [
    {
     "data": {
      "text/plain": [
       "array([[0., 0., 0., ..., 0., 0., 0.],\n",
       "       [0., 0., 0., ..., 0., 0., 0.]])"
      ]
     },
     "execution_count": 18,
     "metadata": {},
     "output_type": "execute_result"
    }
   ],
   "source": [
    "sigbufs"
   ]
  },
  {
   "cell_type": "code",
   "execution_count": 19,
   "id": "a1413b5b",
   "metadata": {},
   "outputs": [],
   "source": [
    "sigbufs[0, :] = f.readSignal(3)\n",
    "sigbufs[1, :] = f.readSignal(4)"
   ]
  },
  {
   "cell_type": "code",
   "execution_count": 20,
   "id": "0c9fcc5b",
   "metadata": {},
   "outputs": [
    {
     "data": {
      "text/plain": [
       "array([[0.51184371, 0.43565324, 0.35946276, ..., 0.3047619 , 0.24615385,\n",
       "        0.43956044],\n",
       "       [0.61147741, 0.55091575, 0.32429792, ..., 0.55482295, 0.56068376,\n",
       "        0.55873016]])"
      ]
     },
     "execution_count": 20,
     "metadata": {},
     "output_type": "execute_result"
    }
   ],
   "source": [
    "sigbufs"
   ]
  },
  {
   "cell_type": "code",
   "execution_count": null,
   "id": "3c38b595",
   "metadata": {},
   "outputs": [],
   "source": []
  }
 ],
 "metadata": {
  "kernelspec": {
   "display_name": "Python 3 (ipykernel)",
   "language": "python",
   "name": "python3"
  },
  "language_info": {
   "codemirror_mode": {
    "name": "ipython",
    "version": 3
   },
   "file_extension": ".py",
   "mimetype": "text/x-python",
   "name": "python",
   "nbconvert_exporter": "python",
   "pygments_lexer": "ipython3",
   "version": "3.10.6"
  }
 },
 "nbformat": 4,
 "nbformat_minor": 5
}
