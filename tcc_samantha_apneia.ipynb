{
 "cells": [
  {
   "cell_type": "markdown",
   "id": "6495dc01",
   "metadata": {
    "pycharm": {
     "name": "#%% md\n"
    }
   },
   "source": [
    "# TCC - Detecção de Apneia do sono com sinais EEG"
   ]
  },
  {
   "cell_type": "code",
   "execution_count": 1,
   "id": "d5b9d734",
   "metadata": {
    "pycharm": {
     "name": "#%%\n"
    }
   },
   "outputs": [],
   "source": [
    "# imports\n",
    "import pyedflib\n",
    "import numpy as np\n",
    "import seaborn as sns\n",
    "import matplotlib.pyplot as plt\n",
    "import pandas as pd\n",
    "import datetime"
   ]
  },
  {
   "cell_type": "markdown",
   "id": "2d2c7a6d",
   "metadata": {
    "pycharm": {
     "name": "#%% md\n"
    }
   },
   "source": [
    "## Explorando DB #1 "
   ]
  },
  {
   "cell_type": "markdown",
   "id": "2bfd3d9f",
   "metadata": {},
   "source": [
    "### Lendo base e definindo funções auxiliares"
   ]
  },
  {
   "cell_type": "markdown",
   "id": "8a247463",
   "metadata": {
    "pycharm": {
     "name": "#%% md\n"
    }
   },
   "source": [
    "Nota: Para cada segundo do experimento de um paciente, existem 128 amostras do sinal."
   ]
  },
  {
   "cell_type": "code",
   "execution_count": 2,
   "id": "dac5a031",
   "metadata": {
    "pycharm": {
     "name": "#%%\n"
    }
   },
   "outputs": [
    {
     "data": {
      "text/plain": [
       "'/home/samantha.athayde/Documents/tcc/base1/st-vincents-university-hospital-university-college-dublin-sleep-apnea-database-1.0.0/files/'"
      ]
     },
     "execution_count": 2,
     "metadata": {},
     "output_type": "execute_result"
    }
   ],
   "source": [
    "project_folder_path = '/home/samantha.athayde/Documents/tcc/base1/st-vincents-university-hospital-university-college-dublin-sleep-apnea-database-1.0.0/files/'\n",
    "project_folder_path"
   ]
  },
  {
   "cell_type": "code",
   "execution_count": 3,
   "metadata": {
    "collapsed": false,
    "pycharm": {
     "name": "#%%\n"
    }
   },
   "outputs": [],
   "source": [
    "# no contexto do database, só temos 2 canais eeg, C3 e C4\n",
    "def read_eeg_signals(patient_rec_path, signals):\n",
    "    patient_rec_file = pyedflib.EdfReader(patient_rec_path)\n",
    "\n",
    "    file_signal_labels = patient_rec_file.getSignalLabels()\n",
    "\n",
    "    print(\"=========================================================================\")\n",
    "    print(\"Signals in file: \")\n",
    "    print(file_signal_labels)\n",
    "    print(f\"Recording duration: {patient_rec_file.getFileDuration() / (60 * 60)} H\")\n",
    "\n",
    "    print(\"\\n=========================================================================\")\n",
    "    print(f\"Signals of interest: {signals}\")\n",
    "\n",
    "    sigbufs = np.zeros((len(signals), patient_rec_file.getNSamples()[3]))\n",
    "    print(f\"EEG signals dataset shape: {sigbufs.shape}\")\n",
    "\n",
    "    sigbufs[0, :] = patient_rec_file.readSignal(3) # C3A2\n",
    "    sigbufs[1, :] = patient_rec_file.readSignal(4) # C4A1\n",
    "\n",
    "    patient_rec_file.close()\n",
    "\n",
    "    return sigbufs\n"
   ]
  },
  {
   "cell_type": "code",
   "execution_count": 4,
   "metadata": {
    "collapsed": false,
    "pycharm": {
     "name": "#%%\n"
    }
   },
   "outputs": [],
   "source": [
    "def beautify_time(seconds):\n",
    "    return str(datetime.timedelta(seconds=seconds))"
   ]
  },
  {
   "cell_type": "code",
   "execution_count": 5,
   "id": "3c081113",
   "metadata": {
    "pycharm": {
     "name": "#%%\n"
    }
   },
   "outputs": [
    {
     "data": {
      "text/plain": [
       "'/home/samantha.athayde/Documents/tcc/base1/st-vincents-university-hospital-university-college-dublin-sleep-apnea-database-1.0.0/files/ucddb002.rec'"
      ]
     },
     "execution_count": 5,
     "metadata": {},
     "output_type": "execute_result"
    }
   ],
   "source": [
    "patient_ucddb002_file_name = '/home/samantha.athayde/Documents/tcc/base1/st-vincents-university-hospital-university-college-dublin-sleep-apnea-database-1.0.0/files/ucddb002.rec'\n",
    "patient_ucddb002_file_name"
   ]
  },
  {
   "cell_type": "code",
   "execution_count": 6,
   "metadata": {
    "collapsed": false,
    "pycharm": {
     "name": "#%%\n"
    }
   },
   "outputs": [
    {
     "name": "stdout",
     "output_type": "stream",
     "text": [
      "=========================================================================\n",
      "Signals in file: \n",
      "['Lefteye', 'RightEye', 'EMG', 'C3A2', 'C4A1', 'ECG', 'SpO2', 'Sound', 'Flow', 'Sum', 'ribcage', 'abdo', 'BodyPos', 'Pulse']\n",
      "Recording duration: 6.241666666666666 H\n",
      "\n",
      "=========================================================================\n",
      "Signals of interest: ['C3A2', 'C4A1']\n",
      "EEG signals dataset shape: (2, 2876160)\n"
     ]
    },
    {
     "data": {
      "text/plain": [
       "array([[0.51184371, 0.43565324, 0.35946276, ..., 0.3047619 , 0.24615385,\n",
       "        0.43956044],\n",
       "       [0.61147741, 0.55091575, 0.32429792, ..., 0.55482295, 0.56068376,\n",
       "        0.55873016]])"
      ]
     },
     "execution_count": 6,
     "metadata": {},
     "output_type": "execute_result"
    }
   ],
   "source": [
    "patient_ucddb002_eeg_signals = read_eeg_signals(patient_ucddb002_file_name, ['C3A2', 'C4A1'])\n",
    "patient_ucddb002_eeg_signals"
   ]
  },
  {
   "cell_type": "code",
   "execution_count": 7,
   "id": "4d2f878e",
   "metadata": {
    "pycharm": {
     "name": "#%%\n"
    }
   },
   "outputs": [],
   "source": [
    "def plot_event(event_name, start_time, duration, channel):\n",
    "    time_hms = start_time.split(':')\n",
    "    start_second = int(time_hms[0])*60*60 + (int(time_hms[1])*60) + int(time_hms[2])\n",
    "    \n",
    "    event_start = start_second * 128\n",
    "    event_end = event_start + (128*duration)\n",
    "    \n",
    "    x = np.arange(event_start, event_end)\n",
    "    y = channel[event_start:event_end]\n",
    "    \n",
    "    plt.figure(figsize=(8, 6),)\n",
    "    plt.plot(x, y)\n",
    "    plt.title(event_name)\n",
    "    \n",
    "    plt.xlabel('Sample')\n",
    "    plt.ylabel('Signal')\n",
    "    \n",
    "    print(y.shape, x.shape)\n",
    "  "
   ]
  },
  {
   "cell_type": "code",
   "execution_count": 8,
   "id": "94e2e579",
   "metadata": {
    "pycharm": {
     "name": "#%%\n"
    }
   },
   "outputs": [
    {
     "name": "stdout",
     "output_type": "stream",
     "text": [
      "(1920,) (1920,)\n"
     ]
    },
    {
     "data": {
      "image/png": "[encoded data removed]",
      "text/plain": [
       "<Figure size 800x600 with 1 Axes>"
      ]
     },
     "metadata": {},
     "output_type": "display_data"
    }
   ],
   "source": [
    "plot_event(\"APNEA-O\", \"01:40:48\", 15, patient_ucddb002_eeg_signals[0]) # C3A2"
   ]
  },
  {
   "cell_type": "code",
   "execution_count": 9,
   "id": "6695a28c",
   "metadata": {
    "pycharm": {
     "name": "#%%\n"
    }
   },
   "outputs": [
    {
     "name": "stdout",
     "output_type": "stream",
     "text": [
      "(2176,) (2176,)\n"
     ]
    },
    {
     "data": {
      "image/png": "[encoded data removed]",
      "text/plain": [
       "<Figure size 800x600 with 1 Axes>"
      ]
     },
     "metadata": {},
     "output_type": "display_data"
    }
   ],
   "source": [
    "plot_event(\"APNEA-O\", \"01:42:22\", 17, patient_ucddb002_eeg_signals[0])"
   ]
  },
  {
   "cell_type": "markdown",
   "id": "bea08be5",
   "metadata": {
    "pycharm": {
     "name": "#%% md\n"
    }
   },
   "source": [
    "### Lendo informações sobre os pacientes"
   ]
  },
  {
   "cell_type": "code",
   "execution_count": 10,
   "id": "0331fc1f",
   "metadata": {
    "pycharm": {
     "name": "#%%\n"
    }
   },
   "outputs": [],
   "source": [
    "patients_raw = pd.read_excel('./st-vincents-university-hospital-university-college-dublin-sleep-apnea-database-1.0.0/files/SubjectDetails.xls')"
   ]
  },
  {
   "cell_type": "code",
   "execution_count": 11,
   "id": "112d2b56",
   "metadata": {
    "pycharm": {
     "name": "#%%\n"
    }
   },
   "outputs": [
    {
     "data": {
      "text/html": [
       "<div>\n",
       "<style scoped>\n",
       "    .dataframe tbody tr th:only-of-type {\n",
       "        vertical-align: middle;\n",
       "    }\n",
       "\n",
       "    .dataframe tbody tr th {\n",
       "        vertical-align: top;\n",
       "    }\n",
       "\n",
       "    .dataframe thead th {\n",
       "        text-align: right;\n",
       "    }\n",
       "</style>\n",
       "<table border=\"1\" class=\"dataframe\">\n",
       "  <thead>\n",
       "    <tr style=\"text-align: right;\">\n",
       "      <th></th>\n",
       "      <th>S/No</th>\n",
       "      <th>Study Number</th>\n",
       "      <th>Height (cm)</th>\n",
       "      <th>Weight (kg)</th>\n",
       "      <th>Gender</th>\n",
       "      <th>PSG Start Time</th>\n",
       "      <th>PSG AHI</th>\n",
       "      <th>BMI</th>\n",
       "      <th>Age</th>\n",
       "      <th>Epworth Sleepiness Score</th>\n",
       "      <th>Study Duration (hr)</th>\n",
       "      <th>Sleep Efficiency (%)</th>\n",
       "      <th>No of data blocks in EDF</th>\n",
       "    </tr>\n",
       "  </thead>\n",
       "  <tbody>\n",
       "    <tr>\n",
       "      <th>0</th>\n",
       "      <td>1</td>\n",
       "      <td>UCDDB002</td>\n",
       "      <td>172</td>\n",
       "      <td>100.3</td>\n",
       "      <td>M</td>\n",
       "      <td>0:11:04</td>\n",
       "      <td>23</td>\n",
       "      <td>33.9</td>\n",
       "      <td>54</td>\n",
       "      <td>16</td>\n",
       "      <td>6.2</td>\n",
       "      <td>84</td>\n",
       "      <td>22470</td>\n",
       "    </tr>\n",
       "    <tr>\n",
       "      <th>1</th>\n",
       "      <td>2</td>\n",
       "      <td>UCDDB003</td>\n",
       "      <td>179</td>\n",
       "      <td>102.0</td>\n",
       "      <td>M</td>\n",
       "      <td>23:07:50</td>\n",
       "      <td>51</td>\n",
       "      <td>31.8</td>\n",
       "      <td>48</td>\n",
       "      <td>13</td>\n",
       "      <td>7.3</td>\n",
       "      <td>81</td>\n",
       "      <td>26478</td>\n",
       "    </tr>\n",
       "    <tr>\n",
       "      <th>2</th>\n",
       "      <td>3</td>\n",
       "      <td>UCDDB005</td>\n",
       "      <td>176</td>\n",
       "      <td>100.4</td>\n",
       "      <td>M</td>\n",
       "      <td>23:28:42</td>\n",
       "      <td>13</td>\n",
       "      <td>32.4</td>\n",
       "      <td>65</td>\n",
       "      <td>19</td>\n",
       "      <td>6.9</td>\n",
       "      <td>63</td>\n",
       "      <td>24798</td>\n",
       "    </tr>\n",
       "    <tr>\n",
       "      <th>3</th>\n",
       "      <td>4</td>\n",
       "      <td>UCDDB006</td>\n",
       "      <td>185</td>\n",
       "      <td>103.5</td>\n",
       "      <td>M</td>\n",
       "      <td>23:57:14</td>\n",
       "      <td>31</td>\n",
       "      <td>30.2</td>\n",
       "      <td>52</td>\n",
       "      <td>3</td>\n",
       "      <td>6.7</td>\n",
       "      <td>89</td>\n",
       "      <td>24267</td>\n",
       "    </tr>\n",
       "    <tr>\n",
       "      <th>4</th>\n",
       "      <td>5</td>\n",
       "      <td>UCDDB007</td>\n",
       "      <td>183</td>\n",
       "      <td>84.0</td>\n",
       "      <td>M</td>\n",
       "      <td>23:30:22</td>\n",
       "      <td>12</td>\n",
       "      <td>25.1</td>\n",
       "      <td>47</td>\n",
       "      <td>15</td>\n",
       "      <td>6.8</td>\n",
       "      <td>90</td>\n",
       "      <td>24405</td>\n",
       "    </tr>\n",
       "    <tr>\n",
       "      <th>5</th>\n",
       "      <td>6</td>\n",
       "      <td>UCDDB008</td>\n",
       "      <td>145</td>\n",
       "      <td>59.8</td>\n",
       "      <td>F</td>\n",
       "      <td>23:29:11</td>\n",
       "      <td>5</td>\n",
       "      <td>28.4</td>\n",
       "      <td>63</td>\n",
       "      <td>1</td>\n",
       "      <td>6.4</td>\n",
       "      <td>64</td>\n",
       "      <td>23041</td>\n",
       "    </tr>\n",
       "    <tr>\n",
       "      <th>6</th>\n",
       "      <td>7</td>\n",
       "      <td>UCDDB009</td>\n",
       "      <td>180</td>\n",
       "      <td>101.5</td>\n",
       "      <td>M</td>\n",
       "      <td>22:35:22</td>\n",
       "      <td>12</td>\n",
       "      <td>31.3</td>\n",
       "      <td>52</td>\n",
       "      <td>19</td>\n",
       "      <td>7.7</td>\n",
       "      <td>80</td>\n",
       "      <td>27759</td>\n",
       "    </tr>\n",
       "    <tr>\n",
       "      <th>7</th>\n",
       "      <td>8</td>\n",
       "      <td>UCDDB010</td>\n",
       "      <td>174</td>\n",
       "      <td>119.0</td>\n",
       "      <td>M</td>\n",
       "      <td>22:51:18</td>\n",
       "      <td>34</td>\n",
       "      <td>39.3</td>\n",
       "      <td>38</td>\n",
       "      <td>2</td>\n",
       "      <td>7.6</td>\n",
       "      <td>92</td>\n",
       "      <td>27211</td>\n",
       "    </tr>\n",
       "    <tr>\n",
       "      <th>8</th>\n",
       "      <td>9</td>\n",
       "      <td>UCDDB011</td>\n",
       "      <td>188</td>\n",
       "      <td>101.0</td>\n",
       "      <td>M</td>\n",
       "      <td>22:47:38</td>\n",
       "      <td>8</td>\n",
       "      <td>28.6</td>\n",
       "      <td>51</td>\n",
       "      <td>8</td>\n",
       "      <td>7.5</td>\n",
       "      <td>60</td>\n",
       "      <td>27030</td>\n",
       "    </tr>\n",
       "    <tr>\n",
       "      <th>9</th>\n",
       "      <td>10</td>\n",
       "      <td>UCDDB012</td>\n",
       "      <td>179</td>\n",
       "      <td>97.5</td>\n",
       "      <td>M</td>\n",
       "      <td>23:23:21</td>\n",
       "      <td>25</td>\n",
       "      <td>30.4</td>\n",
       "      <td>51</td>\n",
       "      <td>16</td>\n",
       "      <td>7.2</td>\n",
       "      <td>85</td>\n",
       "      <td>25941</td>\n",
       "    </tr>\n",
       "    <tr>\n",
       "      <th>10</th>\n",
       "      <td>11</td>\n",
       "      <td>UCDDB013</td>\n",
       "      <td>153</td>\n",
       "      <td>80.0</td>\n",
       "      <td>F</td>\n",
       "      <td>23:44:00</td>\n",
       "      <td>16</td>\n",
       "      <td>34.2</td>\n",
       "      <td>62</td>\n",
       "      <td>10</td>\n",
       "      <td>6.8</td>\n",
       "      <td>61</td>\n",
       "      <td>24333</td>\n",
       "    </tr>\n",
       "    <tr>\n",
       "      <th>11</th>\n",
       "      <td>12</td>\n",
       "      <td>UCDDB014</td>\n",
       "      <td>177</td>\n",
       "      <td>91.0</td>\n",
       "      <td>M</td>\n",
       "      <td>23:37:59</td>\n",
       "      <td>36</td>\n",
       "      <td>29.0</td>\n",
       "      <td>56</td>\n",
       "      <td>5</td>\n",
       "      <td>6.4</td>\n",
       "      <td>79</td>\n",
       "      <td>23239</td>\n",
       "    </tr>\n",
       "    <tr>\n",
       "      <th>12</th>\n",
       "      <td>13</td>\n",
       "      <td>UCDDB015</td>\n",
       "      <td>170</td>\n",
       "      <td>83.9</td>\n",
       "      <td>M</td>\n",
       "      <td>23:02:45</td>\n",
       "      <td>6</td>\n",
       "      <td>29.0</td>\n",
       "      <td>28</td>\n",
       "      <td>2</td>\n",
       "      <td>7.6</td>\n",
       "      <td>77</td>\n",
       "      <td>27488</td>\n",
       "    </tr>\n",
       "    <tr>\n",
       "      <th>13</th>\n",
       "      <td>14</td>\n",
       "      <td>UCDDB017</td>\n",
       "      <td>176</td>\n",
       "      <td>117.0</td>\n",
       "      <td>M</td>\n",
       "      <td>23:16:05</td>\n",
       "      <td>12</td>\n",
       "      <td>37.8</td>\n",
       "      <td>53</td>\n",
       "      <td>7</td>\n",
       "      <td>6.6</td>\n",
       "      <td>87</td>\n",
       "      <td>23684</td>\n",
       "    </tr>\n",
       "    <tr>\n",
       "      <th>14</th>\n",
       "      <td>15</td>\n",
       "      <td>UCDDB018</td>\n",
       "      <td>171</td>\n",
       "      <td>77.0</td>\n",
       "      <td>M</td>\n",
       "      <td>23:49:02</td>\n",
       "      <td>2</td>\n",
       "      <td>26.3</td>\n",
       "      <td>35</td>\n",
       "      <td>10</td>\n",
       "      <td>6.8</td>\n",
       "      <td>60</td>\n",
       "      <td>24685</td>\n",
       "    </tr>\n",
       "    <tr>\n",
       "      <th>15</th>\n",
       "      <td>16</td>\n",
       "      <td>UCDDB019</td>\n",
       "      <td>178</td>\n",
       "      <td>97.8</td>\n",
       "      <td>M</td>\n",
       "      <td>23:30:33</td>\n",
       "      <td>16</td>\n",
       "      <td>30.9</td>\n",
       "      <td>49</td>\n",
       "      <td>18</td>\n",
       "      <td>7.1</td>\n",
       "      <td>92</td>\n",
       "      <td>25573</td>\n",
       "    </tr>\n",
       "    <tr>\n",
       "      <th>16</th>\n",
       "      <td>17</td>\n",
       "      <td>UCDDB020</td>\n",
       "      <td>179</td>\n",
       "      <td>108.8</td>\n",
       "      <td>M</td>\n",
       "      <td>23:48:21</td>\n",
       "      <td>15</td>\n",
       "      <td>34.0</td>\n",
       "      <td>52</td>\n",
       "      <td>11</td>\n",
       "      <td>6.3</td>\n",
       "      <td>78</td>\n",
       "      <td>22586</td>\n",
       "    </tr>\n",
       "    <tr>\n",
       "      <th>17</th>\n",
       "      <td>18</td>\n",
       "      <td>UCDDB021</td>\n",
       "      <td>161</td>\n",
       "      <td>87.0</td>\n",
       "      <td>F</td>\n",
       "      <td>22:52:05</td>\n",
       "      <td>13</td>\n",
       "      <td>33.6</td>\n",
       "      <td>41</td>\n",
       "      <td>13</td>\n",
       "      <td>7.6</td>\n",
       "      <td>82</td>\n",
       "      <td>27409</td>\n",
       "    </tr>\n",
       "    <tr>\n",
       "      <th>18</th>\n",
       "      <td>19</td>\n",
       "      <td>UCDDB022</td>\n",
       "      <td>166</td>\n",
       "      <td>80.7</td>\n",
       "      <td>M</td>\n",
       "      <td>23:35:05</td>\n",
       "      <td>7</td>\n",
       "      <td>29.3</td>\n",
       "      <td>34</td>\n",
       "      <td>4</td>\n",
       "      <td>6.6</td>\n",
       "      <td>58</td>\n",
       "      <td>23640</td>\n",
       "    </tr>\n",
       "    <tr>\n",
       "      <th>19</th>\n",
       "      <td>20</td>\n",
       "      <td>UCDDB023</td>\n",
       "      <td>165</td>\n",
       "      <td>89.0</td>\n",
       "      <td>F</td>\n",
       "      <td>22:55:51</td>\n",
       "      <td>39</td>\n",
       "      <td>32.7</td>\n",
       "      <td>68</td>\n",
       "      <td>13</td>\n",
       "      <td>7.2</td>\n",
       "      <td>67</td>\n",
       "      <td>25850</td>\n",
       "    </tr>\n",
       "    <tr>\n",
       "      <th>20</th>\n",
       "      <td>21</td>\n",
       "      <td>UCDDB024</td>\n",
       "      <td>172</td>\n",
       "      <td>99.9</td>\n",
       "      <td>M</td>\n",
       "      <td>22:58:02</td>\n",
       "      <td>24</td>\n",
       "      <td>33.8</td>\n",
       "      <td>54</td>\n",
       "      <td>19</td>\n",
       "      <td>7.6</td>\n",
       "      <td>83</td>\n",
       "      <td>27250</td>\n",
       "    </tr>\n",
       "    <tr>\n",
       "      <th>21</th>\n",
       "      <td>22</td>\n",
       "      <td>UCDDB025</td>\n",
       "      <td>174</td>\n",
       "      <td>128.6</td>\n",
       "      <td>M</td>\n",
       "      <td>0:25:37</td>\n",
       "      <td>91</td>\n",
       "      <td>42.5</td>\n",
       "      <td>52</td>\n",
       "      <td>24</td>\n",
       "      <td>5.9</td>\n",
       "      <td>77</td>\n",
       "      <td>21350</td>\n",
       "    </tr>\n",
       "    <tr>\n",
       "      <th>22</th>\n",
       "      <td>23</td>\n",
       "      <td>UCDDB026</td>\n",
       "      <td>175</td>\n",
       "      <td>84.0</td>\n",
       "      <td>M</td>\n",
       "      <td>22:58:13</td>\n",
       "      <td>14</td>\n",
       "      <td>27.4</td>\n",
       "      <td>49</td>\n",
       "      <td>9</td>\n",
       "      <td>7.0</td>\n",
       "      <td>87</td>\n",
       "      <td>25160</td>\n",
       "    </tr>\n",
       "    <tr>\n",
       "      <th>23</th>\n",
       "      <td>24</td>\n",
       "      <td>UCDDB027</td>\n",
       "      <td>182</td>\n",
       "      <td>93.0</td>\n",
       "      <td>M</td>\n",
       "      <td>22:56:30</td>\n",
       "      <td>55</td>\n",
       "      <td>28.1</td>\n",
       "      <td>45</td>\n",
       "      <td>10</td>\n",
       "      <td>7.4</td>\n",
       "      <td>86</td>\n",
       "      <td>26791</td>\n",
       "    </tr>\n",
       "    <tr>\n",
       "      <th>24</th>\n",
       "      <td>25</td>\n",
       "      <td>UCDDB028</td>\n",
       "      <td>172</td>\n",
       "      <td>88.9</td>\n",
       "      <td>M</td>\n",
       "      <td>0:29:08</td>\n",
       "      <td>46</td>\n",
       "      <td>30.1</td>\n",
       "      <td>50</td>\n",
       "      <td>13</td>\n",
       "      <td>6.0</td>\n",
       "      <td>68</td>\n",
       "      <td>21660</td>\n",
       "    </tr>\n",
       "  </tbody>\n",
       "</table>\n",
       "</div>"
      ],
      "text/plain": [
       "    S/No Study Number  Height (cm)  Weight (kg) Gender PSG Start Time  \\\n",
       "0      1     UCDDB002          172        100.3      M        0:11:04   \n",
       "1      2     UCDDB003          179        102.0      M       23:07:50   \n",
       "2      3     UCDDB005          176        100.4      M       23:28:42   \n",
       "3      4     UCDDB006          185        103.5      M       23:57:14   \n",
       "4      5     UCDDB007          183         84.0      M       23:30:22   \n",
       "5      6     UCDDB008          145         59.8      F       23:29:11   \n",
       "6      7     UCDDB009          180        101.5      M       22:35:22   \n",
       "7      8     UCDDB010          174        119.0      M       22:51:18   \n",
       "8      9     UCDDB011          188        101.0      M       22:47:38   \n",
       "9     10     UCDDB012          179         97.5      M       23:23:21   \n",
       "10    11     UCDDB013          153         80.0      F       23:44:00   \n",
       "11    12     UCDDB014          177         91.0      M       23:37:59   \n",
       "12    13     UCDDB015          170         83.9      M       23:02:45   \n",
       "13    14     UCDDB017          176        117.0      M       23:16:05   \n",
       "14    15     UCDDB018          171         77.0      M       23:49:02   \n",
       "15    16     UCDDB019          178         97.8      M       23:30:33   \n",
       "16    17     UCDDB020          179        108.8      M       23:48:21   \n",
       "17    18     UCDDB021          161         87.0      F       22:52:05   \n",
       "18    19     UCDDB022          166         80.7      M       23:35:05   \n",
       "19    20     UCDDB023          165         89.0      F       22:55:51   \n",
       "20    21     UCDDB024          172         99.9      M       22:58:02   \n",
       "21    22     UCDDB025          174        128.6      M        0:25:37   \n",
       "22    23     UCDDB026          175         84.0      M       22:58:13   \n",
       "23    24     UCDDB027          182         93.0      M       22:56:30   \n",
       "24    25     UCDDB028          172         88.9      M        0:29:08   \n",
       "\n",
       "    PSG AHI   BMI  Age  Epworth Sleepiness Score  Study Duration (hr)  \\\n",
       "0        23  33.9   54                        16                  6.2   \n",
       "1        51  31.8   48                        13                  7.3   \n",
       "2        13  32.4   65                        19                  6.9   \n",
       "3        31  30.2   52                         3                  6.7   \n",
       "4        12  25.1   47                        15                  6.8   \n",
       "5         5  28.4   63                         1                  6.4   \n",
       "6        12  31.3   52                        19                  7.7   \n",
       "7        34  39.3   38                         2                  7.6   \n",
       "8         8  28.6   51                         8                  7.5   \n",
       "9        25  30.4   51                        16                  7.2   \n",
       "10       16  34.2   62                        10                  6.8   \n",
       "11       36  29.0   56                         5                  6.4   \n",
       "12        6  29.0   28                         2                  7.6   \n",
       "13       12  37.8   53                         7                  6.6   \n",
       "14        2  26.3   35                        10                  6.8   \n",
       "15       16  30.9   49                        18                  7.1   \n",
       "16       15  34.0   52                        11                  6.3   \n",
       "17       13  33.6   41                        13                  7.6   \n",
       "18        7  29.3   34                         4                  6.6   \n",
       "19       39  32.7   68                        13                  7.2   \n",
       "20       24  33.8   54                        19                  7.6   \n",
       "21       91  42.5   52                        24                  5.9   \n",
       "22       14  27.4   49                         9                  7.0   \n",
       "23       55  28.1   45                        10                  7.4   \n",
       "24       46  30.1   50                        13                  6.0   \n",
       "\n",
       "    Sleep Efficiency (%)  No of data blocks in EDF  \n",
       "0                     84                     22470  \n",
       "1                     81                     26478  \n",
       "2                     63                     24798  \n",
       "3                     89                     24267  \n",
       "4                     90                     24405  \n",
       "5                     64                     23041  \n",
       "6                     80                     27759  \n",
       "7                     92                     27211  \n",
       "8                     60                     27030  \n",
       "9                     85                     25941  \n",
       "10                    61                     24333  \n",
       "11                    79                     23239  \n",
       "12                    77                     27488  \n",
       "13                    87                     23684  \n",
       "14                    60                     24685  \n",
       "15                    92                     25573  \n",
       "16                    78                     22586  \n",
       "17                    82                     27409  \n",
       "18                    58                     23640  \n",
       "19                    67                     25850  \n",
       "20                    83                     27250  \n",
       "21                    77                     21350  \n",
       "22                    87                     25160  \n",
       "23                    86                     26791  \n",
       "24                    68                     21660  "
      ]
     },
     "execution_count": 11,
     "metadata": {},
     "output_type": "execute_result"
    }
   ],
   "source": [
    "patients = patients_raw.loc[:, ~patients_raw.columns.str.contains('^Unnamed')]\n",
    "patients"
   ]
  },
  {
   "cell_type": "code",
   "execution_count": 12,
   "id": "e89d81fd",
   "metadata": {
    "pycharm": {
     "name": "#%%\n"
    }
   },
   "outputs": [
    {
     "data": {
      "text/plain": [
       "25"
      ]
     },
     "execution_count": 12,
     "metadata": {},
     "output_type": "execute_result"
    }
   ],
   "source": [
    "number_of_patients = len(patients)\n",
    "number_of_patients"
   ]
  },
  {
   "cell_type": "markdown",
   "id": "c4010568",
   "metadata": {
    "pycharm": {
     "name": "#%% md\n"
    }
   },
   "source": [
    "### Lendo anotações dos eventos respiratorios"
   ]
  },
  {
   "cell_type": "markdown",
   "id": "1431155d",
   "metadata": {
    "pycharm": {
     "name": "#%% md\n"
    }
   },
   "source": [
    "A ideia é ler as anotações dos eventos respiratorios de cada paciente, transforma-las em um dataframe que depois é adicionado em uma lista contendo as anotações de todos os pacientes."
   ]
  },
  {
   "cell_type": "code",
   "execution_count": 13,
   "id": "912af46d",
   "metadata": {
    "pycharm": {
     "name": "#%%\n"
    }
   },
   "outputs": [],
   "source": [
    "patients_notes_list = []"
   ]
  },
  {
   "cell_type": "code",
   "execution_count": 14,
   "id": "6c740794",
   "metadata": {
    "pycharm": {
     "name": "#%%\n"
    }
   },
   "outputs": [],
   "source": [
    "patients_notes_path = './st-vincents-university-hospital-university-college-dublin-sleep-apnea-database-1.0.0/files/'"
   ]
  },
  {
   "cell_type": "code",
   "execution_count": 15,
   "id": "aebfaa1a",
   "metadata": {
    "pycharm": {
     "name": "#%%\n"
    }
   },
   "outputs": [],
   "source": [
    "def read_annotations(notes_path):\n",
    "    # pegando apenas as colunas necessárias\n",
    "    notes_df_raw = pd.read_fwf(notes_path, skiprows=2)\n",
    "    notes_df = notes_df_raw[['Time', 'Type', 'Duration']]\n",
    "    \n",
    "    # removendo linhas com valores nulos\n",
    "    notes_df_clean = notes_df.dropna()\n",
    "    \n",
    "    return notes_df_clean"
   ]
  },
  {
   "cell_type": "code",
   "execution_count": 16,
   "id": "589f6d31",
   "metadata": {
    "pycharm": {
     "name": "#%%\n"
    }
   },
   "outputs": [],
   "source": [
    "for patient in range(number_of_patients):\n",
    "    patient_notes_path = patients_notes_path + patients['Study Number'][patient].lower() + '_respevt.txt'\n",
    "    \n",
    "    patient_notes = read_annotations(patient_notes_path)\n",
    "    patients_notes_list.append(patient_notes)"
   ]
  },
  {
   "cell_type": "code",
   "execution_count": 17,
   "id": "177a919b",
   "metadata": {
    "pycharm": {
     "name": "#%%\n"
    }
   },
   "outputs": [
    {
     "data": {
      "text/html": [
       "<div>\n",
       "<style scoped>\n",
       "    .dataframe tbody tr th:only-of-type {\n",
       "        vertical-align: middle;\n",
       "    }\n",
       "\n",
       "    .dataframe tbody tr th {\n",
       "        vertical-align: top;\n",
       "    }\n",
       "\n",
       "    .dataframe thead th {\n",
       "        text-align: right;\n",
       "    }\n",
       "</style>\n",
       "<table border=\"1\" class=\"dataframe\">\n",
       "  <thead>\n",
       "    <tr style=\"text-align: right;\">\n",
       "      <th></th>\n",
       "      <th>Time</th>\n",
       "      <th>Type</th>\n",
       "      <th>Duration</th>\n",
       "    </tr>\n",
       "  </thead>\n",
       "  <tbody>\n",
       "    <tr>\n",
       "      <th>0</th>\n",
       "      <td>00:29:13</td>\n",
       "      <td>HYP-C</td>\n",
       "      <td>16.0</td>\n",
       "    </tr>\n",
       "    <tr>\n",
       "      <th>1</th>\n",
       "      <td>00:59:46</td>\n",
       "      <td>HYP-C</td>\n",
       "      <td>20.0</td>\n",
       "    </tr>\n",
       "    <tr>\n",
       "      <th>2</th>\n",
       "      <td>01:01:37</td>\n",
       "      <td>HYP-C</td>\n",
       "      <td>13.0</td>\n",
       "    </tr>\n",
       "    <tr>\n",
       "      <th>3</th>\n",
       "      <td>01:02:25</td>\n",
       "      <td>HYP-C</td>\n",
       "      <td>13.0</td>\n",
       "    </tr>\n",
       "    <tr>\n",
       "      <th>4</th>\n",
       "      <td>01:07:47</td>\n",
       "      <td>HYP-C</td>\n",
       "      <td>14.0</td>\n",
       "    </tr>\n",
       "    <tr>\n",
       "      <th>...</th>\n",
       "      <td>...</td>\n",
       "      <td>...</td>\n",
       "      <td>...</td>\n",
       "    </tr>\n",
       "    <tr>\n",
       "      <th>119</th>\n",
       "      <td>05:01:26</td>\n",
       "      <td>HYP-C</td>\n",
       "      <td>21.0</td>\n",
       "    </tr>\n",
       "    <tr>\n",
       "      <th>120</th>\n",
       "      <td>05:02:09</td>\n",
       "      <td>HYP-C</td>\n",
       "      <td>31.0</td>\n",
       "    </tr>\n",
       "    <tr>\n",
       "      <th>121</th>\n",
       "      <td>05:03:03</td>\n",
       "      <td>HYP-C</td>\n",
       "      <td>19.0</td>\n",
       "    </tr>\n",
       "    <tr>\n",
       "      <th>122</th>\n",
       "      <td>05:05:03</td>\n",
       "      <td>APNEA-M</td>\n",
       "      <td>12.0</td>\n",
       "    </tr>\n",
       "    <tr>\n",
       "      <th>123</th>\n",
       "      <td>05:05:49</td>\n",
       "      <td>APNEA-O</td>\n",
       "      <td>16.0</td>\n",
       "    </tr>\n",
       "  </tbody>\n",
       "</table>\n",
       "<p>124 rows × 3 columns</p>\n",
       "</div>"
      ],
      "text/plain": [
       "         Time     Type  Duration\n",
       "0    00:29:13    HYP-C      16.0\n",
       "1    00:59:46    HYP-C      20.0\n",
       "2    01:01:37    HYP-C      13.0\n",
       "3    01:02:25    HYP-C      13.0\n",
       "4    01:07:47    HYP-C      14.0\n",
       "..        ...      ...       ...\n",
       "119  05:01:26    HYP-C      21.0\n",
       "120  05:02:09    HYP-C      31.0\n",
       "121  05:03:03    HYP-C      19.0\n",
       "122  05:05:03  APNEA-M      12.0\n",
       "123  05:05:49  APNEA-O      16.0\n",
       "\n",
       "[124 rows x 3 columns]"
      ]
     },
     "execution_count": 17,
     "metadata": {},
     "output_type": "execute_result"
    }
   ],
   "source": [
    "patients_notes_list[0] # anotações do primeiro paciente"
   ]
  },
  {
   "cell_type": "markdown",
   "id": "8c5fa436",
   "metadata": {
    "pycharm": {
     "name": "#%% md\n"
    }
   },
   "source": [
    "### Criando o dataset que será utilizado na CNN"
   ]
  },
  {
   "cell_type": "markdown",
   "id": "2154f956",
   "metadata": {
    "pycharm": {
     "name": "#%% md\n"
    }
   },
   "source": [
    "Cada sinal de cada experimento será divido em frames de comprimento pré-definido e também com um shift pré-definido para permitir overlap e aumentar a quantidade de dados para treino.\n",
    "\n",
    "A classificação de cada frame será o equivalente a classificação do ponto médio (do dataframe), ou seja, se o ponto médio estiver dentro de um evento de APNEA-C, essa será a classificação do frame.\n",
    "\n",
    "**Classificações:**\n",
    "- HYP-C (Hypopnea)\n",
    "- HYP-O\n",
    "- HYP-M\n",
    "- APNEA-C (Central)\n",
    "- APNEA-O (Obstructive)\n",
    "- APNEA-M (Mixed)\n",
    "\n",
    "**Legenda:**\n",
    "- HYP -> Hypopnea\n",
    "- C   -> Central\n",
    "- O   -> Obstructive\n",
    "- M   -> Mixed\n"
   ]
  },
  {
   "cell_type": "code",
   "execution_count": 18,
   "id": "21e6af78",
   "metadata": {
    "pycharm": {
     "name": "#%%\n"
    }
   },
   "outputs": [],
   "source": [
    "# se generalized_apnea for True, o dataset desconsidera as ramificações da apneia (O, C e M)\n",
    "generalized_apnea = True\n",
    "classify_hyp = False\n",
    "\n",
    "frame_length = 10 # medido em segundos\n",
    "frame_shift = 8 # também medido em segundos, SAMPLE_RATE_FREQUENCY % frame_shift == 0\n",
    "SAMPLE_RATE_FREQUENCY = 128"
   ]
  },
  {
   "cell_type": "code",
   "execution_count": 19,
   "metadata": {
    "collapsed": false,
    "pycharm": {
     "name": "#%%\n"
    }
   },
   "outputs": [
    {
     "data": {
      "text/plain": [
       "0"
      ]
     },
     "execution_count": 19,
     "metadata": {},
     "output_type": "execute_result"
    }
   ],
   "source": [
    "SAMPLE_RATE_FREQUENCY % 8"
   ]
  },
  {
   "cell_type": "code",
   "execution_count": 20,
   "metadata": {
    "collapsed": false,
    "pycharm": {
     "name": "#%%\n"
    }
   },
   "outputs": [],
   "source": [
    "def classify_frame(patient_notes, frame_start_second):\n",
    "    middle_point_seconds = frame_start_second + (frame_length / 2)\n",
    "    middle_point_time = beautify_time(middle_point_seconds)\n",
    "\n",
    "\n",
    "\n",
    "\n",
    "    pass"
   ]
  },
  {
   "cell_type": "code",
   "execution_count": 21,
   "id": "b5cb2b8d",
   "metadata": {
    "pycharm": {
     "name": "#%%\n"
    }
   },
   "outputs": [],
   "source": [
    "def frame_signal(patient):\n",
    "    \n",
    "    # getting patient recording\n",
    "    patient_rec_path = project_folder_path + patient.lower() + '.rec'\n",
    "    patient_rec = read_eeg_signals(patient_rec_path, ['C3A2', 'C4A1'])\n",
    "\n",
    "    c3a2 = patient_rec[0]\n",
    "    c3a2_ds = []\n",
    "\n",
    "    c3a2_length = len(c3a2)\n",
    "\n",
    "    print(c3a2_length)\n",
    "    for i in range(0, c3a2_length, frame_shift * 128):\n",
    "        c3a2_ds.append(c3a2[i : i+frame_length])\n",
    "\n",
    "    print(len(c3a2_ds))\n",
    "\n",
    "    \n",
    "    # TODO: get whole signal\n",
    "    \n",
    "    # TODO: slice in frames\n"
   ]
  },
  {
   "cell_type": "code",
   "execution_count": 22,
   "metadata": {
    "collapsed": false,
    "pycharm": {
     "name": "#%%\n"
    }
   },
   "outputs": [
    {
     "name": "stdout",
     "output_type": "stream",
     "text": [
      "=========================================================================\n",
      "Signals in file: \n",
      "['Lefteye', 'RightEye', 'EMG', 'C3A2', 'C4A1', 'ECG', 'SpO2', 'Sound', 'Flow', 'Sum', 'ribcage', 'abdo', 'BodyPos', 'Pulse']\n",
      "Recording duration: 6.241666666666666 H\n",
      "\n",
      "=========================================================================\n",
      "Signals of interest: ['C3A2', 'C4A1']\n",
      "EEG signals dataset shape: (2, 2876160)\n",
      "2876160\n",
      "2809\n"
     ]
    }
   ],
   "source": [
    "frame_signal(\"UCDDB002\")"
   ]
  },
  {
   "cell_type": "code",
   "execution_count": 23,
   "metadata": {
    "collapsed": false,
    "pycharm": {
     "name": "#%%\n"
    }
   },
   "outputs": [
    {
     "data": {
      "text/plain": [
       "2247.0"
      ]
     },
     "execution_count": 23,
     "metadata": {},
     "output_type": "execute_result"
    }
   ],
   "source": [
    "2876160 / 128 / 10"
   ]
  },
  {
   "cell_type": "markdown",
   "id": "f5f6681a",
   "metadata": {},
   "source": [
    "## Explorando DB #2"
   ]
  }
 ],
 "metadata": {
  "kernelspec": {
   "display_name": "Python 3.10.6 ('tcc')",
   "language": "python",
   "name": "python3"
  },
  "language_info": {
   "codemirror_mode": {
    "name": "ipython",
    "version": 3
   },
   "file_extension": ".py",
   "mimetype": "text/x-python",
   "name": "python",
   "nbconvert_exporter": "python",
   "pygments_lexer": "ipython3",
   "version": "3.10.6"
  },
  "vscode": {
   "interpreter": {
    "hash": "77358125bd1526560f60734fed332180c9cecf7889217762afa7b411d107c4f2"
   }
  }
 },
 "nbformat": 4,
 "nbformat_minor": 5
}
